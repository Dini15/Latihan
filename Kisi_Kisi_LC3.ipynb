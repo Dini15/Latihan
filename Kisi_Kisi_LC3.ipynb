{
  "nbformat": 4,
  "nbformat_minor": 0,
  "metadata": {
    "colab": {
      "provenance": []
    },
    "kernelspec": {
      "name": "python3",
      "display_name": "Python 3"
    },
    "language_info": {
      "name": "python"
    }
  },
  "cells": [
    {
      "cell_type": "markdown",
      "source": [
        "Perusahaan peminjaman sepeda di San Fransisco memintamu untuk menganalisa durasi perjalanan customer mereka. Untuk memudahkan analisa, lakukan hal-hal berikut ini:\n",
        "\n",
        "## **STATISTIK DESKRIPTIF**\n",
        "\n",
        "1. Lakukan perhitungan central tendency (mean, median, dan modus).\n",
        "2. Lakukan pengecekan dispersi (standar deviasi, variance, dan range).\n",
        "3. Lakukan pengecekan skewness dan kurtosis.\n",
        "3. Analisa apakah ada data outlier berdasarkan sebaran datanya.\n",
        "4. Cari tahu berapa persentase outlier terhadap data keseluruhan.\n",
        "5. Bagaimana perubahan pemusatan data sebelum dan sesudah penghapusan outlier?\n",
        "\n",
        "## **API**\n",
        "\n",
        "Buatlah API untuk:\n",
        "- `Menampilkan` seluruh entry data setelah dilakukan handling outlier.\n",
        "- `Menghapus` entry data, dari data yang telah dihandling outlier.\n",
        "\n",
        "clue:\n",
        "- Load data csv yang sudah diolah dengan pandas, kemudian konversi data ke dictionary `df.to_dict()` atau json `df.to_json()` untuk dapat diolah lebih lanjut dengan API menggunakan FastAPI.\n",
        "- Pembuatan API dilakukan pada script `.py`\n",
        "- Endpoint dan penamaan function pada API dibebaskan.\n",
        "\n",
        "\n",
        "---\n",
        "\n",
        "\n",
        "\n",
        "Data dapat diakses dari BigQuery dengan ketentuan:\n",
        "\n",
        "- Project_id: `bigquery-public-data`\n",
        "- Dataset: `san_francisco_bikeshare`\n",
        "- Table: `bikeshare_trips`\n",
        "- Ambil hanya kolom `duration_sec` saja\n",
        "- Berikan LIMIT pada data yang diambil sebesar 3000 entry data\n",
        "\n",
        "Koneksikan data di atas menggunakan `BigQuery` ke Google Colab dengan code berikut:\n",
        "```py\n",
        "from google.colab import auth\n",
        "from google.cloud import bigquery\n",
        "auth.authenticate_user()\n",
        "print('Authenticated')\n",
        "\n",
        "project_id = \"rock-wonder-317907\" #GUNAKAN GCP PROJECT-ID KALIAN MASING-MASING\n",
        "client = bigquery.Client(project=project_id)\n",
        "```\n",
        "\n",
        "Untuk melakukan Query menggunakan cara ini, kamu dapat menggunakan method `client.query('Masukkan Querynya').to_dataframe()`. Outputnya akan berupa Pandas dataframe, sehingga harus import Pandas.\n",
        "\n",
        "Contoh:\n",
        "\n",
        "```py\n",
        "df = client.query('''\n",
        "SELECT *\n",
        "FROM `bigquery-public-data.thelook_ecommerce.orders`\n",
        "WHERE created_at < \"2022-07-01\"\n",
        "ORDER BY year,month ASC\n",
        "''').to_dataframe()\n",
        "```\n",
        "\n"
      ],
      "metadata": {
        "id": "e0E_A5aDbO7r"
      }
    },
    {
      "cell_type": "code",
      "source": [
        "from google.colab import auth\n",
        "from google.cloud import bigquery\n",
        "import pandas as pd\n",
        "import matplotlib.pyplot as plt\n",
        "import seaborn as sns\n",
        "from google.colab import files\n",
        "\n",
        "auth.authenticate_user()\n",
        "print('Authenticated')\n",
        "\n",
        "project_id = \"proyek-saya-440809\" #GUNAKAN GCP PROJECT-ID KALIAN MASING-MASING\n",
        "client = bigquery.Client(project=project_id)\n",
        "\n",
        "'''\n",
        "put your sql query here, adjust the FROM clause with the following requirements\n",
        "- project_name: bigquery-public-data\n",
        "- dataset_name: san_francisco_bikeshare\n",
        "- table_name: bikeshare_trips\n",
        "'''\n",
        "\n",
        "#Pengambilan data dengan limit hanya 3000 data\n",
        "query = \"\"\"\n",
        "SELECT * FROM `bigquery-public-data.san_francisco_bikeshare.bikeshare_trips`\n",
        "\n",
        "LIMIT 3000\n",
        "\"\"\"\n",
        "\n",
        "df = client.query(query).to_dataframe()\n",
        "\n",
        "df"
      ],
      "metadata": {
        "id": "stLFk77dk8Ek",
        "colab": {
          "base_uri": "https://localhost:8080/",
          "height": 634
        },
        "outputId": "0027ac80-ade0-49ed-8425-1429b4b68b86"
      },
      "execution_count": 88,
      "outputs": [
        {
          "output_type": "stream",
          "name": "stdout",
          "text": [
            "Authenticated\n"
          ]
        },
        {
          "output_type": "execute_result",
          "data": {
            "text/plain": [
              "                 trip_id  duration_sec                start_date  \\\n",
              "0     201712271027562591           623 2017-12-27 10:27:56+00:00   \n",
              "1     201712051457373349           584 2017-12-05 14:57:37+00:00   \n",
              "2     201710082321501464           763 2017-10-08 23:21:50+00:00   \n",
              "3      20180208165758349           560 2018-02-08 16:57:58+00:00   \n",
              "4      20171215164722144           501 2017-12-15 16:47:22+00:00   \n",
              "...                  ...           ...                       ...   \n",
              "2995   20180428143250746           957 2018-04-28 14:32:50+00:00   \n",
              "2996  201801241840423715           151 2018-01-24 18:40:42+00:00   \n",
              "2997  201710260107282706           350 2017-10-26 01:07:28+00:00   \n",
              "2998  201801111957591750           131 2018-01-11 19:57:59+00:00   \n",
              "2999    2018011412312963          1936 2018-01-14 12:31:29+00:00   \n",
              "\n",
              "         start_station_name  start_station_id                  end_date  \\\n",
              "0     10th Ave at E 15th St               222 2017-12-27 10:38:20+00:00   \n",
              "1      10th St at Fallon St               201 2017-12-05 15:07:22+00:00   \n",
              "2      10th St at Fallon St               201 2017-10-08 23:34:33+00:00   \n",
              "3      10th St at Fallon St               201 2018-02-08 17:07:19+00:00   \n",
              "4      10th St at Fallon St               201 2017-12-15 16:55:44+00:00   \n",
              "...                     ...               ...                       ...   \n",
              "2995   Mission Dolores Park               120 2018-04-28 14:48:47+00:00   \n",
              "2996     Mission Playground               121 2018-01-24 18:43:14+00:00   \n",
              "2997     Mission Playground               121 2017-10-26 01:13:19+00:00   \n",
              "2998     Mission Playground               121 2018-01-11 20:00:11+00:00   \n",
              "2999     Mission Playground               121 2018-01-14 13:03:46+00:00   \n",
              "\n",
              "            end_station_name  end_station_id  bike_number zip_code  ...  \\\n",
              "0      10th Ave at E 15th St             222         2591     None  ...   \n",
              "1      10th Ave at E 15th St             222         3349     None  ...   \n",
              "2      10th Ave at E 15th St             222         1464     None  ...   \n",
              "3      10th Ave at E 15th St             222          349     None  ...   \n",
              "4      10th Ave at E 15th St             222          144     None  ...   \n",
              "...                      ...             ...          ...      ...  ...   \n",
              "2995  17th St at Valencia St             109          746     None  ...   \n",
              "2996  17th St at Valencia St             109         3715     None  ...   \n",
              "2997  17th St at Valencia St             109         2706     None  ...   \n",
              "2998  17th St at Valencia St             109         1750     None  ...   \n",
              "2999  17th St at Valencia St             109           63     None  ...   \n",
              "\n",
              "     c_subscription_type start_station_latitude  start_station_longitude  \\\n",
              "0                   None              37.792714              -122.248780   \n",
              "1                   None              37.797673              -122.262997   \n",
              "2                   None              37.797673              -122.262997   \n",
              "3                   None              37.797673              -122.262997   \n",
              "4                   None              37.797673              -122.262997   \n",
              "...                  ...                    ...                      ...   \n",
              "2995                None              37.761420              -122.426435   \n",
              "2996                None              37.759210              -122.421339   \n",
              "2997                None              37.759210              -122.421339   \n",
              "2998                None              37.759210              -122.421339   \n",
              "2999                None              37.759210              -122.421339   \n",
              "\n",
              "      end_station_latitude  end_station_longitude  member_birth_year  \\\n",
              "0                37.792714            -122.248780               1984   \n",
              "1                37.792714            -122.248780               1984   \n",
              "2                37.792714            -122.248780               <NA>   \n",
              "3                37.792714            -122.248780               1984   \n",
              "4                37.792714            -122.248780               1984   \n",
              "...                    ...                    ...                ...   \n",
              "2995             37.763316            -122.421904               <NA>   \n",
              "2996             37.763316            -122.421904               1979   \n",
              "2997             37.763316            -122.421904               1982   \n",
              "2998             37.763316            -122.421904               1985   \n",
              "2999             37.763316            -122.421904               1985   \n",
              "\n",
              "      member_gender bike_share_for_all_trip              start_station_geom  \\\n",
              "0              Male                    None  POINT(-122.2487796 37.7927143)   \n",
              "1              Male                    None  POINT(-122.2629973 37.7976728)   \n",
              "2              None                    None  POINT(-122.2629973 37.7976728)   \n",
              "3              Male                     Yes  POINT(-122.2629973 37.7976728)   \n",
              "4              Male                    None  POINT(-122.2629973 37.7976728)   \n",
              "...             ...                     ...                             ...   \n",
              "2995           None                      No  POINT(-122.4264353 37.7614205)   \n",
              "2996           Male                      No  POINT(-122.4213392 37.7592103)   \n",
              "2997           Male                    None  POINT(-122.4213392 37.7592103)   \n",
              "2998         Female                      No  POINT(-122.4213392 37.7592103)   \n",
              "2999         Female                      No  POINT(-122.4213392 37.7592103)   \n",
              "\n",
              "                    end_station_geom  \n",
              "0     POINT(-122.2487796 37.7927143)  \n",
              "1     POINT(-122.2487796 37.7927143)  \n",
              "2     POINT(-122.2487796 37.7927143)  \n",
              "3     POINT(-122.2487796 37.7927143)  \n",
              "4     POINT(-122.2487796 37.7927143)  \n",
              "...                              ...  \n",
              "2995  POINT(-122.4219039 37.7633158)  \n",
              "2996  POINT(-122.4219039 37.7633158)  \n",
              "2997  POINT(-122.4219039 37.7633158)  \n",
              "2998  POINT(-122.4219039 37.7633158)  \n",
              "2999  POINT(-122.4219039 37.7633158)  \n",
              "\n",
              "[3000 rows x 21 columns]"
            ],
            "text/html": [
              "\n",
              "  <div id=\"df-0a2d6dff-9de9-4b8f-96a8-1a794c618736\" class=\"colab-df-container\">\n",
              "    <div>\n",
              "<style scoped>\n",
              "    .dataframe tbody tr th:only-of-type {\n",
              "        vertical-align: middle;\n",
              "    }\n",
              "\n",
              "    .dataframe tbody tr th {\n",
              "        vertical-align: top;\n",
              "    }\n",
              "\n",
              "    .dataframe thead th {\n",
              "        text-align: right;\n",
              "    }\n",
              "</style>\n",
              "<table border=\"1\" class=\"dataframe\">\n",
              "  <thead>\n",
              "    <tr style=\"text-align: right;\">\n",
              "      <th></th>\n",
              "      <th>trip_id</th>\n",
              "      <th>duration_sec</th>\n",
              "      <th>start_date</th>\n",
              "      <th>start_station_name</th>\n",
              "      <th>start_station_id</th>\n",
              "      <th>end_date</th>\n",
              "      <th>end_station_name</th>\n",
              "      <th>end_station_id</th>\n",
              "      <th>bike_number</th>\n",
              "      <th>zip_code</th>\n",
              "      <th>...</th>\n",
              "      <th>c_subscription_type</th>\n",
              "      <th>start_station_latitude</th>\n",
              "      <th>start_station_longitude</th>\n",
              "      <th>end_station_latitude</th>\n",
              "      <th>end_station_longitude</th>\n",
              "      <th>member_birth_year</th>\n",
              "      <th>member_gender</th>\n",
              "      <th>bike_share_for_all_trip</th>\n",
              "      <th>start_station_geom</th>\n",
              "      <th>end_station_geom</th>\n",
              "    </tr>\n",
              "  </thead>\n",
              "  <tbody>\n",
              "    <tr>\n",
              "      <th>0</th>\n",
              "      <td>201712271027562591</td>\n",
              "      <td>623</td>\n",
              "      <td>2017-12-27 10:27:56+00:00</td>\n",
              "      <td>10th Ave at E 15th St</td>\n",
              "      <td>222</td>\n",
              "      <td>2017-12-27 10:38:20+00:00</td>\n",
              "      <td>10th Ave at E 15th St</td>\n",
              "      <td>222</td>\n",
              "      <td>2591</td>\n",
              "      <td>None</td>\n",
              "      <td>...</td>\n",
              "      <td>None</td>\n",
              "      <td>37.792714</td>\n",
              "      <td>-122.248780</td>\n",
              "      <td>37.792714</td>\n",
              "      <td>-122.248780</td>\n",
              "      <td>1984</td>\n",
              "      <td>Male</td>\n",
              "      <td>None</td>\n",
              "      <td>POINT(-122.2487796 37.7927143)</td>\n",
              "      <td>POINT(-122.2487796 37.7927143)</td>\n",
              "    </tr>\n",
              "    <tr>\n",
              "      <th>1</th>\n",
              "      <td>201712051457373349</td>\n",
              "      <td>584</td>\n",
              "      <td>2017-12-05 14:57:37+00:00</td>\n",
              "      <td>10th St at Fallon St</td>\n",
              "      <td>201</td>\n",
              "      <td>2017-12-05 15:07:22+00:00</td>\n",
              "      <td>10th Ave at E 15th St</td>\n",
              "      <td>222</td>\n",
              "      <td>3349</td>\n",
              "      <td>None</td>\n",
              "      <td>...</td>\n",
              "      <td>None</td>\n",
              "      <td>37.797673</td>\n",
              "      <td>-122.262997</td>\n",
              "      <td>37.792714</td>\n",
              "      <td>-122.248780</td>\n",
              "      <td>1984</td>\n",
              "      <td>Male</td>\n",
              "      <td>None</td>\n",
              "      <td>POINT(-122.2629973 37.7976728)</td>\n",
              "      <td>POINT(-122.2487796 37.7927143)</td>\n",
              "    </tr>\n",
              "    <tr>\n",
              "      <th>2</th>\n",
              "      <td>201710082321501464</td>\n",
              "      <td>763</td>\n",
              "      <td>2017-10-08 23:21:50+00:00</td>\n",
              "      <td>10th St at Fallon St</td>\n",
              "      <td>201</td>\n",
              "      <td>2017-10-08 23:34:33+00:00</td>\n",
              "      <td>10th Ave at E 15th St</td>\n",
              "      <td>222</td>\n",
              "      <td>1464</td>\n",
              "      <td>None</td>\n",
              "      <td>...</td>\n",
              "      <td>None</td>\n",
              "      <td>37.797673</td>\n",
              "      <td>-122.262997</td>\n",
              "      <td>37.792714</td>\n",
              "      <td>-122.248780</td>\n",
              "      <td>&lt;NA&gt;</td>\n",
              "      <td>None</td>\n",
              "      <td>None</td>\n",
              "      <td>POINT(-122.2629973 37.7976728)</td>\n",
              "      <td>POINT(-122.2487796 37.7927143)</td>\n",
              "    </tr>\n",
              "    <tr>\n",
              "      <th>3</th>\n",
              "      <td>20180208165758349</td>\n",
              "      <td>560</td>\n",
              "      <td>2018-02-08 16:57:58+00:00</td>\n",
              "      <td>10th St at Fallon St</td>\n",
              "      <td>201</td>\n",
              "      <td>2018-02-08 17:07:19+00:00</td>\n",
              "      <td>10th Ave at E 15th St</td>\n",
              "      <td>222</td>\n",
              "      <td>349</td>\n",
              "      <td>None</td>\n",
              "      <td>...</td>\n",
              "      <td>None</td>\n",
              "      <td>37.797673</td>\n",
              "      <td>-122.262997</td>\n",
              "      <td>37.792714</td>\n",
              "      <td>-122.248780</td>\n",
              "      <td>1984</td>\n",
              "      <td>Male</td>\n",
              "      <td>Yes</td>\n",
              "      <td>POINT(-122.2629973 37.7976728)</td>\n",
              "      <td>POINT(-122.2487796 37.7927143)</td>\n",
              "    </tr>\n",
              "    <tr>\n",
              "      <th>4</th>\n",
              "      <td>20171215164722144</td>\n",
              "      <td>501</td>\n",
              "      <td>2017-12-15 16:47:22+00:00</td>\n",
              "      <td>10th St at Fallon St</td>\n",
              "      <td>201</td>\n",
              "      <td>2017-12-15 16:55:44+00:00</td>\n",
              "      <td>10th Ave at E 15th St</td>\n",
              "      <td>222</td>\n",
              "      <td>144</td>\n",
              "      <td>None</td>\n",
              "      <td>...</td>\n",
              "      <td>None</td>\n",
              "      <td>37.797673</td>\n",
              "      <td>-122.262997</td>\n",
              "      <td>37.792714</td>\n",
              "      <td>-122.248780</td>\n",
              "      <td>1984</td>\n",
              "      <td>Male</td>\n",
              "      <td>None</td>\n",
              "      <td>POINT(-122.2629973 37.7976728)</td>\n",
              "      <td>POINT(-122.2487796 37.7927143)</td>\n",
              "    </tr>\n",
              "    <tr>\n",
              "      <th>...</th>\n",
              "      <td>...</td>\n",
              "      <td>...</td>\n",
              "      <td>...</td>\n",
              "      <td>...</td>\n",
              "      <td>...</td>\n",
              "      <td>...</td>\n",
              "      <td>...</td>\n",
              "      <td>...</td>\n",
              "      <td>...</td>\n",
              "      <td>...</td>\n",
              "      <td>...</td>\n",
              "      <td>...</td>\n",
              "      <td>...</td>\n",
              "      <td>...</td>\n",
              "      <td>...</td>\n",
              "      <td>...</td>\n",
              "      <td>...</td>\n",
              "      <td>...</td>\n",
              "      <td>...</td>\n",
              "      <td>...</td>\n",
              "      <td>...</td>\n",
              "    </tr>\n",
              "    <tr>\n",
              "      <th>2995</th>\n",
              "      <td>20180428143250746</td>\n",
              "      <td>957</td>\n",
              "      <td>2018-04-28 14:32:50+00:00</td>\n",
              "      <td>Mission Dolores Park</td>\n",
              "      <td>120</td>\n",
              "      <td>2018-04-28 14:48:47+00:00</td>\n",
              "      <td>17th St at Valencia St</td>\n",
              "      <td>109</td>\n",
              "      <td>746</td>\n",
              "      <td>None</td>\n",
              "      <td>...</td>\n",
              "      <td>None</td>\n",
              "      <td>37.761420</td>\n",
              "      <td>-122.426435</td>\n",
              "      <td>37.763316</td>\n",
              "      <td>-122.421904</td>\n",
              "      <td>&lt;NA&gt;</td>\n",
              "      <td>None</td>\n",
              "      <td>No</td>\n",
              "      <td>POINT(-122.4264353 37.7614205)</td>\n",
              "      <td>POINT(-122.4219039 37.7633158)</td>\n",
              "    </tr>\n",
              "    <tr>\n",
              "      <th>2996</th>\n",
              "      <td>201801241840423715</td>\n",
              "      <td>151</td>\n",
              "      <td>2018-01-24 18:40:42+00:00</td>\n",
              "      <td>Mission Playground</td>\n",
              "      <td>121</td>\n",
              "      <td>2018-01-24 18:43:14+00:00</td>\n",
              "      <td>17th St at Valencia St</td>\n",
              "      <td>109</td>\n",
              "      <td>3715</td>\n",
              "      <td>None</td>\n",
              "      <td>...</td>\n",
              "      <td>None</td>\n",
              "      <td>37.759210</td>\n",
              "      <td>-122.421339</td>\n",
              "      <td>37.763316</td>\n",
              "      <td>-122.421904</td>\n",
              "      <td>1979</td>\n",
              "      <td>Male</td>\n",
              "      <td>No</td>\n",
              "      <td>POINT(-122.4213392 37.7592103)</td>\n",
              "      <td>POINT(-122.4219039 37.7633158)</td>\n",
              "    </tr>\n",
              "    <tr>\n",
              "      <th>2997</th>\n",
              "      <td>201710260107282706</td>\n",
              "      <td>350</td>\n",
              "      <td>2017-10-26 01:07:28+00:00</td>\n",
              "      <td>Mission Playground</td>\n",
              "      <td>121</td>\n",
              "      <td>2017-10-26 01:13:19+00:00</td>\n",
              "      <td>17th St at Valencia St</td>\n",
              "      <td>109</td>\n",
              "      <td>2706</td>\n",
              "      <td>None</td>\n",
              "      <td>...</td>\n",
              "      <td>None</td>\n",
              "      <td>37.759210</td>\n",
              "      <td>-122.421339</td>\n",
              "      <td>37.763316</td>\n",
              "      <td>-122.421904</td>\n",
              "      <td>1982</td>\n",
              "      <td>Male</td>\n",
              "      <td>None</td>\n",
              "      <td>POINT(-122.4213392 37.7592103)</td>\n",
              "      <td>POINT(-122.4219039 37.7633158)</td>\n",
              "    </tr>\n",
              "    <tr>\n",
              "      <th>2998</th>\n",
              "      <td>201801111957591750</td>\n",
              "      <td>131</td>\n",
              "      <td>2018-01-11 19:57:59+00:00</td>\n",
              "      <td>Mission Playground</td>\n",
              "      <td>121</td>\n",
              "      <td>2018-01-11 20:00:11+00:00</td>\n",
              "      <td>17th St at Valencia St</td>\n",
              "      <td>109</td>\n",
              "      <td>1750</td>\n",
              "      <td>None</td>\n",
              "      <td>...</td>\n",
              "      <td>None</td>\n",
              "      <td>37.759210</td>\n",
              "      <td>-122.421339</td>\n",
              "      <td>37.763316</td>\n",
              "      <td>-122.421904</td>\n",
              "      <td>1985</td>\n",
              "      <td>Female</td>\n",
              "      <td>No</td>\n",
              "      <td>POINT(-122.4213392 37.7592103)</td>\n",
              "      <td>POINT(-122.4219039 37.7633158)</td>\n",
              "    </tr>\n",
              "    <tr>\n",
              "      <th>2999</th>\n",
              "      <td>2018011412312963</td>\n",
              "      <td>1936</td>\n",
              "      <td>2018-01-14 12:31:29+00:00</td>\n",
              "      <td>Mission Playground</td>\n",
              "      <td>121</td>\n",
              "      <td>2018-01-14 13:03:46+00:00</td>\n",
              "      <td>17th St at Valencia St</td>\n",
              "      <td>109</td>\n",
              "      <td>63</td>\n",
              "      <td>None</td>\n",
              "      <td>...</td>\n",
              "      <td>None</td>\n",
              "      <td>37.759210</td>\n",
              "      <td>-122.421339</td>\n",
              "      <td>37.763316</td>\n",
              "      <td>-122.421904</td>\n",
              "      <td>1985</td>\n",
              "      <td>Female</td>\n",
              "      <td>No</td>\n",
              "      <td>POINT(-122.4213392 37.7592103)</td>\n",
              "      <td>POINT(-122.4219039 37.7633158)</td>\n",
              "    </tr>\n",
              "  </tbody>\n",
              "</table>\n",
              "<p>3000 rows × 21 columns</p>\n",
              "</div>\n",
              "    <div class=\"colab-df-buttons\">\n",
              "\n",
              "  <div class=\"colab-df-container\">\n",
              "    <button class=\"colab-df-convert\" onclick=\"convertToInteractive('df-0a2d6dff-9de9-4b8f-96a8-1a794c618736')\"\n",
              "            title=\"Convert this dataframe to an interactive table.\"\n",
              "            style=\"display:none;\">\n",
              "\n",
              "  <svg xmlns=\"http://www.w3.org/2000/svg\" height=\"24px\" viewBox=\"0 -960 960 960\">\n",
              "    <path d=\"M120-120v-720h720v720H120Zm60-500h600v-160H180v160Zm220 220h160v-160H400v160Zm0 220h160v-160H400v160ZM180-400h160v-160H180v160Zm440 0h160v-160H620v160ZM180-180h160v-160H180v160Zm440 0h160v-160H620v160Z\"/>\n",
              "  </svg>\n",
              "    </button>\n",
              "\n",
              "  <style>\n",
              "    .colab-df-container {\n",
              "      display:flex;\n",
              "      gap: 12px;\n",
              "    }\n",
              "\n",
              "    .colab-df-convert {\n",
              "      background-color: #E8F0FE;\n",
              "      border: none;\n",
              "      border-radius: 50%;\n",
              "      cursor: pointer;\n",
              "      display: none;\n",
              "      fill: #1967D2;\n",
              "      height: 32px;\n",
              "      padding: 0 0 0 0;\n",
              "      width: 32px;\n",
              "    }\n",
              "\n",
              "    .colab-df-convert:hover {\n",
              "      background-color: #E2EBFA;\n",
              "      box-shadow: 0px 1px 2px rgba(60, 64, 67, 0.3), 0px 1px 3px 1px rgba(60, 64, 67, 0.15);\n",
              "      fill: #174EA6;\n",
              "    }\n",
              "\n",
              "    .colab-df-buttons div {\n",
              "      margin-bottom: 4px;\n",
              "    }\n",
              "\n",
              "    [theme=dark] .colab-df-convert {\n",
              "      background-color: #3B4455;\n",
              "      fill: #D2E3FC;\n",
              "    }\n",
              "\n",
              "    [theme=dark] .colab-df-convert:hover {\n",
              "      background-color: #434B5C;\n",
              "      box-shadow: 0px 1px 3px 1px rgba(0, 0, 0, 0.15);\n",
              "      filter: drop-shadow(0px 1px 2px rgba(0, 0, 0, 0.3));\n",
              "      fill: #FFFFFF;\n",
              "    }\n",
              "  </style>\n",
              "\n",
              "    <script>\n",
              "      const buttonEl =\n",
              "        document.querySelector('#df-0a2d6dff-9de9-4b8f-96a8-1a794c618736 button.colab-df-convert');\n",
              "      buttonEl.style.display =\n",
              "        google.colab.kernel.accessAllowed ? 'block' : 'none';\n",
              "\n",
              "      async function convertToInteractive(key) {\n",
              "        const element = document.querySelector('#df-0a2d6dff-9de9-4b8f-96a8-1a794c618736');\n",
              "        const dataTable =\n",
              "          await google.colab.kernel.invokeFunction('convertToInteractive',\n",
              "                                                    [key], {});\n",
              "        if (!dataTable) return;\n",
              "\n",
              "        const docLinkHtml = 'Like what you see? Visit the ' +\n",
              "          '<a target=\"_blank\" href=https://colab.research.google.com/notebooks/data_table.ipynb>data table notebook</a>'\n",
              "          + ' to learn more about interactive tables.';\n",
              "        element.innerHTML = '';\n",
              "        dataTable['output_type'] = 'display_data';\n",
              "        await google.colab.output.renderOutput(dataTable, element);\n",
              "        const docLink = document.createElement('div');\n",
              "        docLink.innerHTML = docLinkHtml;\n",
              "        element.appendChild(docLink);\n",
              "      }\n",
              "    </script>\n",
              "  </div>\n",
              "\n",
              "\n",
              "<div id=\"df-104253fd-92a4-412c-af90-37618510bd06\">\n",
              "  <button class=\"colab-df-quickchart\" onclick=\"quickchart('df-104253fd-92a4-412c-af90-37618510bd06')\"\n",
              "            title=\"Suggest charts\"\n",
              "            style=\"display:none;\">\n",
              "\n",
              "<svg xmlns=\"http://www.w3.org/2000/svg\" height=\"24px\"viewBox=\"0 0 24 24\"\n",
              "     width=\"24px\">\n",
              "    <g>\n",
              "        <path d=\"M19 3H5c-1.1 0-2 .9-2 2v14c0 1.1.9 2 2 2h14c1.1 0 2-.9 2-2V5c0-1.1-.9-2-2-2zM9 17H7v-7h2v7zm4 0h-2V7h2v10zm4 0h-2v-4h2v4z\"/>\n",
              "    </g>\n",
              "</svg>\n",
              "  </button>\n",
              "\n",
              "<style>\n",
              "  .colab-df-quickchart {\n",
              "      --bg-color: #E8F0FE;\n",
              "      --fill-color: #1967D2;\n",
              "      --hover-bg-color: #E2EBFA;\n",
              "      --hover-fill-color: #174EA6;\n",
              "      --disabled-fill-color: #AAA;\n",
              "      --disabled-bg-color: #DDD;\n",
              "  }\n",
              "\n",
              "  [theme=dark] .colab-df-quickchart {\n",
              "      --bg-color: #3B4455;\n",
              "      --fill-color: #D2E3FC;\n",
              "      --hover-bg-color: #434B5C;\n",
              "      --hover-fill-color: #FFFFFF;\n",
              "      --disabled-bg-color: #3B4455;\n",
              "      --disabled-fill-color: #666;\n",
              "  }\n",
              "\n",
              "  .colab-df-quickchart {\n",
              "    background-color: var(--bg-color);\n",
              "    border: none;\n",
              "    border-radius: 50%;\n",
              "    cursor: pointer;\n",
              "    display: none;\n",
              "    fill: var(--fill-color);\n",
              "    height: 32px;\n",
              "    padding: 0;\n",
              "    width: 32px;\n",
              "  }\n",
              "\n",
              "  .colab-df-quickchart:hover {\n",
              "    background-color: var(--hover-bg-color);\n",
              "    box-shadow: 0 1px 2px rgba(60, 64, 67, 0.3), 0 1px 3px 1px rgba(60, 64, 67, 0.15);\n",
              "    fill: var(--button-hover-fill-color);\n",
              "  }\n",
              "\n",
              "  .colab-df-quickchart-complete:disabled,\n",
              "  .colab-df-quickchart-complete:disabled:hover {\n",
              "    background-color: var(--disabled-bg-color);\n",
              "    fill: var(--disabled-fill-color);\n",
              "    box-shadow: none;\n",
              "  }\n",
              "\n",
              "  .colab-df-spinner {\n",
              "    border: 2px solid var(--fill-color);\n",
              "    border-color: transparent;\n",
              "    border-bottom-color: var(--fill-color);\n",
              "    animation:\n",
              "      spin 1s steps(1) infinite;\n",
              "  }\n",
              "\n",
              "  @keyframes spin {\n",
              "    0% {\n",
              "      border-color: transparent;\n",
              "      border-bottom-color: var(--fill-color);\n",
              "      border-left-color: var(--fill-color);\n",
              "    }\n",
              "    20% {\n",
              "      border-color: transparent;\n",
              "      border-left-color: var(--fill-color);\n",
              "      border-top-color: var(--fill-color);\n",
              "    }\n",
              "    30% {\n",
              "      border-color: transparent;\n",
              "      border-left-color: var(--fill-color);\n",
              "      border-top-color: var(--fill-color);\n",
              "      border-right-color: var(--fill-color);\n",
              "    }\n",
              "    40% {\n",
              "      border-color: transparent;\n",
              "      border-right-color: var(--fill-color);\n",
              "      border-top-color: var(--fill-color);\n",
              "    }\n",
              "    60% {\n",
              "      border-color: transparent;\n",
              "      border-right-color: var(--fill-color);\n",
              "    }\n",
              "    80% {\n",
              "      border-color: transparent;\n",
              "      border-right-color: var(--fill-color);\n",
              "      border-bottom-color: var(--fill-color);\n",
              "    }\n",
              "    90% {\n",
              "      border-color: transparent;\n",
              "      border-bottom-color: var(--fill-color);\n",
              "    }\n",
              "  }\n",
              "</style>\n",
              "\n",
              "  <script>\n",
              "    async function quickchart(key) {\n",
              "      const quickchartButtonEl =\n",
              "        document.querySelector('#' + key + ' button');\n",
              "      quickchartButtonEl.disabled = true;  // To prevent multiple clicks.\n",
              "      quickchartButtonEl.classList.add('colab-df-spinner');\n",
              "      try {\n",
              "        const charts = await google.colab.kernel.invokeFunction(\n",
              "            'suggestCharts', [key], {});\n",
              "      } catch (error) {\n",
              "        console.error('Error during call to suggestCharts:', error);\n",
              "      }\n",
              "      quickchartButtonEl.classList.remove('colab-df-spinner');\n",
              "      quickchartButtonEl.classList.add('colab-df-quickchart-complete');\n",
              "    }\n",
              "    (() => {\n",
              "      let quickchartButtonEl =\n",
              "        document.querySelector('#df-104253fd-92a4-412c-af90-37618510bd06 button');\n",
              "      quickchartButtonEl.style.display =\n",
              "        google.colab.kernel.accessAllowed ? 'block' : 'none';\n",
              "    })();\n",
              "  </script>\n",
              "</div>\n",
              "\n",
              "  <div id=\"id_517ccbe7-7617-4a2a-988f-5917c1a0b313\">\n",
              "    <style>\n",
              "      .colab-df-generate {\n",
              "        background-color: #E8F0FE;\n",
              "        border: none;\n",
              "        border-radius: 50%;\n",
              "        cursor: pointer;\n",
              "        display: none;\n",
              "        fill: #1967D2;\n",
              "        height: 32px;\n",
              "        padding: 0 0 0 0;\n",
              "        width: 32px;\n",
              "      }\n",
              "\n",
              "      .colab-df-generate:hover {\n",
              "        background-color: #E2EBFA;\n",
              "        box-shadow: 0px 1px 2px rgba(60, 64, 67, 0.3), 0px 1px 3px 1px rgba(60, 64, 67, 0.15);\n",
              "        fill: #174EA6;\n",
              "      }\n",
              "\n",
              "      [theme=dark] .colab-df-generate {\n",
              "        background-color: #3B4455;\n",
              "        fill: #D2E3FC;\n",
              "      }\n",
              "\n",
              "      [theme=dark] .colab-df-generate:hover {\n",
              "        background-color: #434B5C;\n",
              "        box-shadow: 0px 1px 3px 1px rgba(0, 0, 0, 0.15);\n",
              "        filter: drop-shadow(0px 1px 2px rgba(0, 0, 0, 0.3));\n",
              "        fill: #FFFFFF;\n",
              "      }\n",
              "    </style>\n",
              "    <button class=\"colab-df-generate\" onclick=\"generateWithVariable('df')\"\n",
              "            title=\"Generate code using this dataframe.\"\n",
              "            style=\"display:none;\">\n",
              "\n",
              "  <svg xmlns=\"http://www.w3.org/2000/svg\" height=\"24px\"viewBox=\"0 0 24 24\"\n",
              "       width=\"24px\">\n",
              "    <path d=\"M7,19H8.4L18.45,9,17,7.55,7,17.6ZM5,21V16.75L18.45,3.32a2,2,0,0,1,2.83,0l1.4,1.43a1.91,1.91,0,0,1,.58,1.4,1.91,1.91,0,0,1-.58,1.4L9.25,21ZM18.45,9,17,7.55Zm-12,3A5.31,5.31,0,0,0,4.9,8.1,5.31,5.31,0,0,0,1,6.5,5.31,5.31,0,0,0,4.9,4.9,5.31,5.31,0,0,0,6.5,1,5.31,5.31,0,0,0,8.1,4.9,5.31,5.31,0,0,0,12,6.5,5.46,5.46,0,0,0,6.5,12Z\"/>\n",
              "  </svg>\n",
              "    </button>\n",
              "    <script>\n",
              "      (() => {\n",
              "      const buttonEl =\n",
              "        document.querySelector('#id_517ccbe7-7617-4a2a-988f-5917c1a0b313 button.colab-df-generate');\n",
              "      buttonEl.style.display =\n",
              "        google.colab.kernel.accessAllowed ? 'block' : 'none';\n",
              "\n",
              "      buttonEl.onclick = () => {\n",
              "        google.colab.notebook.generateWithVariable('df');\n",
              "      }\n",
              "      })();\n",
              "    </script>\n",
              "  </div>\n",
              "\n",
              "    </div>\n",
              "  </div>\n"
            ],
            "application/vnd.google.colaboratory.intrinsic+json": {
              "type": "dataframe",
              "variable_name": "df"
            }
          },
          "metadata": {},
          "execution_count": 88
        }
      ]
    },
    {
      "cell_type": "markdown",
      "source": [
        "1. Perhitungan central tendency (mean, median, dan modus)."
      ],
      "metadata": {
        "id": "ew8FSHv1hqIc"
      }
    },
    {
      "cell_type": "markdown",
      "source": [
        "Mean"
      ],
      "metadata": {
        "id": "gzlBfGlphvLy"
      }
    },
    {
      "cell_type": "code",
      "source": [
        "#Nilai mean menyatakan nilai rata-rata dari kolom yang diminta\n",
        "durasi_rata_rata = df['duration_sec'].mean()\n",
        "print('Mean of duration in second:', durasi_rata_rata)"
      ],
      "metadata": {
        "colab": {
          "base_uri": "https://localhost:8080/",
          "height": 0
        },
        "id": "HRSDYP1niDy6",
        "outputId": "aa478f98-d681-4a1a-eb12-e1cb6c83d1c8"
      },
      "execution_count": 46,
      "outputs": [
        {
          "output_type": "stream",
          "name": "stdout",
          "text": [
            "Mean of duration in second: 848.5906666666667\n"
          ]
        }
      ]
    },
    {
      "cell_type": "markdown",
      "source": [
        "Median"
      ],
      "metadata": {
        "id": "bp_h8FzsSKZc"
      }
    },
    {
      "cell_type": "code",
      "source": [
        "#Nilai median menyatakan nilai tengah dari kolom yang diminta. Pada beberapa kasus, nilai median sama nilainya dengan nilai Q2\n",
        "median = df['duration_sec'].median()\n",
        "print('Median of suration in sec: ', median)"
      ],
      "metadata": {
        "colab": {
          "base_uri": "https://localhost:8080/",
          "height": 0
        },
        "id": "alOVrCPUSMED",
        "outputId": "696fe972-82c6-449e-9b35-2315f60b3fcb"
      },
      "execution_count": 47,
      "outputs": [
        {
          "output_type": "stream",
          "name": "stdout",
          "text": [
            "Median of suration in sec:  493.0\n"
          ]
        }
      ]
    },
    {
      "cell_type": "markdown",
      "source": [
        "Modus"
      ],
      "metadata": {
        "id": "kZS-TSzrSbJi"
      }
    },
    {
      "cell_type": "code",
      "source": [
        "#Nilai modus menyatakan nilai yang sering muncul dari kolom yang diminta.\n",
        "#Index 0 menyatakan nilai yang paling sering muncul pertama, index 1 menyatakan nilai yang paling sering muncul kedua\n",
        "modus = df['duration_sec'].mode()\n",
        "print('Modus of duration in sec: ', modus)"
      ],
      "metadata": {
        "colab": {
          "base_uri": "https://localhost:8080/",
          "height": 0
        },
        "id": "g8YR0YGlSc8x",
        "outputId": "310b7acd-e1b2-4147-c82d-88d02168e68e"
      },
      "execution_count": 48,
      "outputs": [
        {
          "output_type": "stream",
          "name": "stdout",
          "text": [
            "Modus of duration in sec:  0    237\n",
            "1    298\n",
            "Name: duration_sec, dtype: Int64\n"
          ]
        }
      ]
    },
    {
      "cell_type": "markdown",
      "source": [
        "2. Pengecekan dispersi (standar deviasi, variance, dan range)."
      ],
      "metadata": {
        "id": "6616aqKrTOET"
      }
    },
    {
      "cell_type": "markdown",
      "source": [
        "Standar Deviasi"
      ],
      "metadata": {
        "id": "fK3h2PzBTTJd"
      }
    },
    {
      "cell_type": "code",
      "source": [
        "#standar deviasi merupakan akar kuadrat dari variance\n",
        "standard_deviation = df['duration_sec'].std()\n",
        "print('Standard deviation in duration sec: ', standard_deviation)"
      ],
      "metadata": {
        "colab": {
          "base_uri": "https://localhost:8080/",
          "height": 0
        },
        "id": "alOkYZL8Thwv",
        "outputId": "bb5a7890-c45c-40b2-f2f6-530bd00a45a7"
      },
      "execution_count": 49,
      "outputs": [
        {
          "output_type": "stream",
          "name": "stdout",
          "text": [
            "Standard deviation in duration sec:  3055.0551336655344\n"
          ]
        }
      ]
    },
    {
      "cell_type": "markdown",
      "source": [
        "Variance"
      ],
      "metadata": {
        "id": "hwboP8nqTUpi"
      }
    },
    {
      "cell_type": "code",
      "source": [
        "#Nilai variance menyatakan seberapa jauh sebuah data menyebar dari rata-ratanya\n",
        "variance = df['duration_sec'].var()\n",
        "print('Variance in duration sec : ', variance)"
      ],
      "metadata": {
        "colab": {
          "base_uri": "https://localhost:8080/",
          "height": 0
        },
        "id": "RiAhrQDPTrt1",
        "outputId": "029c0836-0096-481d-8f96-4d6f1537a897"
      },
      "execution_count": 50,
      "outputs": [
        {
          "output_type": "stream",
          "name": "stdout",
          "text": [
            "Variance in duration sec :  9333361.869736135\n"
          ]
        }
      ]
    },
    {
      "cell_type": "markdown",
      "source": [
        "Range"
      ],
      "metadata": {
        "id": "xVR1SGl6TVp8"
      }
    },
    {
      "cell_type": "code",
      "source": [
        "#range adalah nilai yang menunjukan selisih antara nili terbesar dan nilai terkecil\n",
        "range = df['duration_sec'].max() - df['duration_sec'].min()\n",
        "print('Range in duration sec: ', range)"
      ],
      "metadata": {
        "colab": {
          "base_uri": "https://localhost:8080/",
          "height": 0
        },
        "id": "8SsAVeduV79z",
        "outputId": "e857ac7a-1909-4bc8-d85f-c5b389e95f63"
      },
      "execution_count": 51,
      "outputs": [
        {
          "output_type": "stream",
          "name": "stdout",
          "text": [
            "Range in duration sec:  77048\n"
          ]
        }
      ]
    },
    {
      "cell_type": "markdown",
      "source": [
        "3. Pengecekan skewness dan kurtosis"
      ],
      "metadata": {
        "id": "6AglanD4WSoY"
      }
    },
    {
      "cell_type": "markdown",
      "source": [
        "Pengecekan skewness"
      ],
      "metadata": {
        "id": "9jCnuC_FWVGU"
      }
    },
    {
      "cell_type": "code",
      "source": [
        "#pengecekan skewness berguna untuk mengecek apakah suatu data simetris atau tidak\n",
        "skewness = df['duration_sec'].skew()\n",
        "print('Skewness of duration in sec: ', skewness)"
      ],
      "metadata": {
        "colab": {
          "base_uri": "https://localhost:8080/",
          "height": 0
        },
        "id": "mhU9jIVAWYW2",
        "outputId": "1be2c23b-72b1-426a-c6ca-ede6f9a64ca6"
      },
      "execution_count": 52,
      "outputs": [
        {
          "output_type": "stream",
          "name": "stdout",
          "text": [
            "Skewness of duration in sec:  16.625943531095256\n"
          ]
        }
      ]
    },
    {
      "cell_type": "markdown",
      "source": [
        "Dari nilai skewness didapat di atas, bisa disimpulkan bahwa data tersebut termasuk ke dalam kategori highly skewed dengan ekor condong ke kanan"
      ],
      "metadata": {
        "id": "cmtrmpcFZupr"
      }
    },
    {
      "cell_type": "markdown",
      "source": [
        "Pengecekan kurtosis"
      ],
      "metadata": {
        "id": "AK6naFYuWW2Z"
      }
    },
    {
      "cell_type": "code",
      "source": [
        "#pengecekan kurtosis berguna untuk mengukur bentuk dari ekor persebaran dan kehadiran outliers\n",
        "print(f\"Kurtosis of duration sec: \", {df['duration_sec'].kurtosis()})"
      ],
      "metadata": {
        "colab": {
          "base_uri": "https://localhost:8080/",
          "height": 0
        },
        "id": "tZuUseKSY6Qa",
        "outputId": "ce5caf9a-7109-4b87-bf6b-06e4d480cbbd"
      },
      "execution_count": 53,
      "outputs": [
        {
          "output_type": "stream",
          "name": "stdout",
          "text": [
            "Kurtosis of duration sec:  {317.37634049376095}\n"
          ]
        }
      ]
    },
    {
      "cell_type": "markdown",
      "source": [
        "Dari nilai kurtosis yang didapatkan di atas, bisa disimpulkan bahwa data termasuk ke dalam kelompok **leprokurtic**. Ini mengindikasikan bahwa data memiliki lebih banyak outliers atau nilai ekstrim daripada distribusi normal"
      ],
      "metadata": {
        "id": "zTzLuwSybOs2"
      }
    },
    {
      "cell_type": "markdown",
      "source": [
        "4. Analisa keberadaan data outlier berdasarkan sebaran datanya"
      ],
      "metadata": {
        "id": "HfGOA6ORbvZ9"
      }
    },
    {
      "cell_type": "markdown",
      "source": [
        "Data outliers adalah data yang keberadaannya jauh dari data yang sedang dianalisis. Dalam mendeteksi keberadaan outliers, bisa digunakan dua metode: Metode Z-Score dan metode Tukey's rule. Karena data yang sedang kita observasi bersifat skewed, maka metode yang digunakan adalah Tukey's rule. Tapi untuk keperluan pembelajaran, metode Z-score tetap akan dihitung"
      ],
      "metadata": {
        "id": "DFu4o_CYcBSr"
      }
    },
    {
      "cell_type": "markdown",
      "source": [
        "Metode Tukey's rule"
      ],
      "metadata": {
        "id": "QdpvO-W9dYxN"
      }
    },
    {
      "cell_type": "code",
      "source": [
        "Q1 = df['duration_sec'].quantile(0.25)\n",
        "Q2 = df['duration_sec'].quantile(0.5)\n",
        "Q3 = df['duration_sec'].quantile(0.75)\n",
        "\n",
        "IQR = Q3 - Q1\n",
        "\n",
        "upper_boundary = Q3 + 1.5*IQR\n",
        "lower_boundary = Q1 - 1.5*IQR\n",
        "\n",
        "print('Upper boundary: ', upper_boundary)\n",
        "print('Lower boundary: ', lower_boundary)"
      ],
      "metadata": {
        "colab": {
          "base_uri": "https://localhost:8080/",
          "height": 0
        },
        "id": "V71hoVuIdbmF",
        "outputId": "0248239b-d5bc-4f80-d8c0-671dd8ef10b4"
      },
      "execution_count": 64,
      "outputs": [
        {
          "output_type": "stream",
          "name": "stdout",
          "text": [
            "Upper boundary:  1474.125\n",
            "Lower boundary:  -394.875\n"
          ]
        }
      ]
    },
    {
      "cell_type": "markdown",
      "source": [
        "Ilustrasi persebaran quartil"
      ],
      "metadata": {
        "id": "8Fjvl9iOlC1J"
      }
    },
    {
      "cell_type": "code",
      "source": [
        "plt.figure(figsize=(6, 4))\n",
        "plt.boxplot(df['duration_sec'], vert=False, patch_artist=True)\n",
        "\n",
        "plt.annotate(f'Q1 = {Q1}', xy=(Q1, 1.06), xytext=(Q1, 1.2), arrowprops=dict(facecolor='black', arrowstyle='->'))\n",
        "plt.annotate(f'Q2 = {Q2}', xy=(Q2, 1.06), xytext=(Q2, 1.3), arrowprops=dict(facecolor='black', arrowstyle='->'))\n",
        "plt.annotate(f'Q3 = {Q3}', xy=(Q3, 1.06), xytext=(Q3, 1.2), arrowprops=dict(facecolor='black', arrowstyle='->'))\n",
        "plt.annotate(f'IQR = {IQR}', xy=((Q1+Q3)/2, 0.85), ha='center')\n",
        "\n",
        "plt.axvline(Q1, linestyle='--', color='gray', label='Q1')\n",
        "plt.axvline(Q3, linestyle='--', color='gray', label='Q3')\n",
        "plt.axvspan(Q1, Q3, alpha=0.2, color='gray', label='IQR')\n",
        "\n",
        "plt.xlabel('Values')\n",
        "plt.title('duration_sec')\n",
        "\n",
        "plt.show()"
      ],
      "metadata": {
        "colab": {
          "base_uri": "https://localhost:8080/",
          "height": 410
        },
        "id": "ngDIC70Gkfn2",
        "outputId": "8fe6bef5-968c-43c1-f762-6558983b5252"
      },
      "execution_count": 67,
      "outputs": [
        {
          "output_type": "display_data",
          "data": {
            "text/plain": [
              "<Figure size 600x400 with 1 Axes>"
            ],
            "image/png": "[encoded data removed]"
          },
          "metadata": {}
        }
      ]
    },
    {
      "cell_type": "markdown",
      "source": [
        "Metode Z Score"
      ],
      "metadata": {
        "id": "31lckqqmi2L9"
      }
    },
    {
      "cell_type": "code",
      "source": [
        "Up_boundary = durasi_rata_rata + 3*std\n",
        "low_boundary = durasi_rata_rata - 3*std\n",
        "\n",
        "print(f'Up_bound: {Up_boundary:.2f}')\n",
        "print(f'Low_bound: {low_boundary:.2f}')"
      ],
      "metadata": {
        "colab": {
          "base_uri": "https://localhost:8080/",
          "height": 0
        },
        "id": "SOgs9vUJi3yF",
        "outputId": "e6382754-db0d-45aa-e763-5b828f7194f8"
      },
      "execution_count": 62,
      "outputs": [
        {
          "output_type": "stream",
          "name": "stdout",
          "text": [
            "Up_bound: 10013.76\n",
            "Low_bound: -8316.57\n"
          ]
        }
      ]
    },
    {
      "cell_type": "markdown",
      "source": [
        "5. Persentase outliers terhadap keseluruhan data"
      ],
      "metadata": {
        "id": "a6VVAXp0ioOd"
      }
    },
    {
      "cell_type": "markdown",
      "source": [
        "Tukey's rule"
      ],
      "metadata": {
        "id": "2HkRAgY3osZr"
      }
    },
    {
      "cell_type": "code",
      "source": [
        "outliers = df['duration_sec'][(df['duration_sec'] < lower_boundary) | (df['duration_sec'] > upper_boundary)]\n",
        "\n",
        "\n",
        "print(f'Percentage of outliers: {len(outliers)*100/len(df[\"duration_sec\"]):.2f}%')"
      ],
      "metadata": {
        "colab": {
          "base_uri": "https://localhost:8080/",
          "height": 0
        },
        "id": "pUj275HEfJFk",
        "outputId": "4953dd42-0da6-448d-fd6d-87ae675c7725"
      },
      "execution_count": 68,
      "outputs": [
        {
          "output_type": "stream",
          "name": "stdout",
          "text": [
            "Percentage of outliers: 5.87%\n"
          ]
        }
      ]
    },
    {
      "cell_type": "markdown",
      "source": [
        "Penggambaran outliers dalam bentuk grafik:"
      ],
      "metadata": {
        "id": "YHP16mmCmhhS"
      }
    },
    {
      "cell_type": "code",
      "source": [
        "fig, ax = plt.subplots(ncols=2,figsize=(10,4))\n",
        "\n",
        "outliers.plot(kind='hist',bins=20,ax=ax[0])\n",
        "outliers.plot(kind='box',ax=ax[1])"
      ],
      "metadata": {
        "colab": {
          "base_uri": "https://localhost:8080/",
          "height": 388
        },
        "id": "clNqUYSKgiaY",
        "outputId": "edce26ad-cdd5-4320-cb0c-f6dc53001b43"
      },
      "execution_count": 58,
      "outputs": [
        {
          "output_type": "execute_result",
          "data": {
            "text/plain": [
              "<Axes: >"
            ]
          },
          "metadata": {},
          "execution_count": 58
        },
        {
          "output_type": "display_data",
          "data": {
            "text/plain": [
              "<Figure size 1000x400 with 2 Axes>"
            ],
            "image/png": "[encoded data removed]"
          },
          "metadata": {}
        }
      ]
    },
    {
      "cell_type": "markdown",
      "source": [
        "Z-Score"
      ],
      "metadata": {
        "id": "ejgsg9XxowC4"
      }
    },
    {
      "cell_type": "code",
      "source": [
        "out_liers = df['duration_sec'][(df['duration_sec'] < low_boundary) | (df['duration_sec'] > Up_boundary)]\n",
        "\n",
        "\n",
        "print(f'Percentage of outliers: {len(out_liers)*100/len(df[\"duration_sec\"]):.2f}%')"
      ],
      "metadata": {
        "colab": {
          "base_uri": "https://localhost:8080/",
          "height": 0
        },
        "id": "Jg3GFpQApeLt",
        "outputId": "94d047a3-fc67-4c22-9316-cf36227da0c3"
      },
      "execution_count": 79,
      "outputs": [
        {
          "output_type": "stream",
          "name": "stdout",
          "text": [
            "Percentage of outliers: 0.60%\n"
          ]
        }
      ]
    },
    {
      "cell_type": "markdown",
      "source": [
        "Penggambaran outliers dalam bentuk grafik:"
      ],
      "metadata": {
        "id": "ezj_X15gtcKC"
      }
    },
    {
      "cell_type": "code",
      "source": [
        "fig, ax = plt.subplots(ncols=2,figsize=(10,4))\n",
        "\n",
        "out_liers.plot(kind='hist',bins=20,ax=ax[0])\n",
        "out_liers.plot(kind='box',ax=ax[1])"
      ],
      "metadata": {
        "colab": {
          "base_uri": "https://localhost:8080/",
          "height": 389
        },
        "id": "raBpI4ZstQM3",
        "outputId": "9e67246d-8646-4fbb-c8d4-b123ab6c3828"
      },
      "execution_count": 83,
      "outputs": [
        {
          "output_type": "execute_result",
          "data": {
            "text/plain": [
              "<Axes: >"
            ]
          },
          "metadata": {},
          "execution_count": 83
        },
        {
          "output_type": "display_data",
          "data": {
            "text/plain": [
              "<Figure size 1000x400 with 2 Axes>"
            ],
            "image/png": "[encoded data removed]"
          },
          "metadata": {}
        }
      ]
    },
    {
      "cell_type": "markdown",
      "source": [
        "6. Penghapusan Outliers"
      ],
      "metadata": {
        "id": "8z3jd8vAevvv"
      }
    },
    {
      "cell_type": "markdown",
      "source": [
        "Tukey's rule"
      ],
      "metadata": {
        "id": "Sq2A3YeEpt5K"
      }
    },
    {
      "cell_type": "code",
      "source": [
        "no_outliers = df['duration_sec'][(df['duration_sec'] >= lower_boundary) & (df['duration_sec'] <= upper_boundary)]\n",
        "\n",
        "print(f'Percentage of no_outliers: {len(no_outliers)*100/len(df[\"duration_sec\"]):.2f}%')"
      ],
      "metadata": {
        "colab": {
          "base_uri": "https://localhost:8080/",
          "height": 0
        },
        "id": "TXeTVGeqmSLZ",
        "outputId": "dbe8c65c-4b9d-450a-c187-3e8ed213d757"
      },
      "execution_count": 78,
      "outputs": [
        {
          "output_type": "stream",
          "name": "stdout",
          "text": [
            "Percentage of no_outliers: 94.13%\n"
          ]
        }
      ]
    },
    {
      "cell_type": "markdown",
      "source": [
        "Penggambaran outliers yang sudah dihapus dalam grafik:"
      ],
      "metadata": {
        "id": "QpaX_TchmpCh"
      }
    },
    {
      "cell_type": "code",
      "source": [
        "fig, ax = plt.subplots(ncols=2,figsize=(10,4))\n",
        "\n",
        "no_outliers.plot(kind='hist',bins=20,ax=ax[0])\n",
        "no_outliers.plot(kind='box',ax=ax[1])"
      ],
      "metadata": {
        "colab": {
          "base_uri": "https://localhost:8080/",
          "height": 385
        },
        "id": "K61D2LIdmvyy",
        "outputId": "db3a2e41-faae-46fc-d9ce-1c467d5f5977"
      },
      "execution_count": 77,
      "outputs": [
        {
          "output_type": "execute_result",
          "data": {
            "text/plain": [
              "<Axes: >"
            ]
          },
          "metadata": {},
          "execution_count": 77
        },
        {
          "output_type": "display_data",
          "data": {
            "text/plain": [
              "<Figure size 1000x400 with 2 Axes>"
            ],
            "image/png": "[encoded data removed]"
          },
          "metadata": {}
        }
      ]
    },
    {
      "cell_type": "markdown",
      "source": [
        "Outliers masih ada dalam data"
      ],
      "metadata": {
        "id": "DhhYHYdUpxRW"
      }
    },
    {
      "cell_type": "markdown",
      "source": [
        "Metode Z-Score"
      ],
      "metadata": {
        "id": "rPj7ArlPp3GH"
      }
    },
    {
      "cell_type": "code",
      "source": [
        "no_out_liers = df['duration_sec'][(df['duration_sec'] >= low_boundary) & (df['duration_sec'] <= Up_boundary)]\n",
        "\n",
        "print(f'Percentage of no_out_liers: {len(no_out_liers)*100/len(df[\"duration_sec\"]):.2f}%')"
      ],
      "metadata": {
        "colab": {
          "base_uri": "https://localhost:8080/",
          "height": 0
        },
        "id": "7Ir2HDOCp6Jc",
        "outputId": "1552475f-fb32-4c3a-a1bf-b4096d69c36a"
      },
      "execution_count": 82,
      "outputs": [
        {
          "output_type": "stream",
          "name": "stdout",
          "text": [
            "Percentage of no_out_liers: 99.40%\n"
          ]
        }
      ]
    },
    {
      "cell_type": "code",
      "source": [
        "fig, ax = plt.subplots(ncols=2,figsize=(10,4))\n",
        "\n",
        "no_out_liers.plot(kind='hist',bins=20,ax=ax[0])\n",
        "no_out_liers.plot(kind='box',ax=ax[1])"
      ],
      "metadata": {
        "colab": {
          "base_uri": "https://localhost:8080/",
          "height": 385
        },
        "id": "f5rPMITcqFOq",
        "outputId": "adff6986-d300-49c4-d5ad-14bab2cdb37f"
      },
      "execution_count": 81,
      "outputs": [
        {
          "output_type": "execute_result",
          "data": {
            "text/plain": [
              "<Axes: >"
            ]
          },
          "metadata": {},
          "execution_count": 81
        },
        {
          "output_type": "display_data",
          "data": {
            "text/plain": [
              "<Figure size 1000x400 with 2 Axes>"
            ],
            "image/png": "[encoded data removed]"
          },
          "metadata": {}
        }
      ]
    },
    {
      "cell_type": "markdown",
      "source": [
        "Kesimpulan:\n",
        "1. Metode Tukey's rule:\n",
        "Sebeleum dilakukan penghapusan outliers, pemusatan data tersebar menurut persentase keberadaan outliers. Setelah dilakukan penghapusan outliers, pemusatan data terlihat lebih rapih dengan bagian outliers yang lebih sedikit\n",
        "2. Metode Z-Score:\n",
        "Sebelum dilakukan penghapusan outliers, pemusatan data terlihat rapih dengan tidak adanya outliers yang nampak. Sedangkan setelah penghapusan outliers, data justru terlihat lebih menyebar\n",
        "\n",
        "\n",
        "\n"
      ],
      "metadata": {
        "id": "LKJ-XCJYtvJt"
      }
    },
    {
      "cell_type": "code",
      "source": [
        "no_outliers.to_csv(\"handled_data.csv\", index=False)\n",
        "files.download('handled_data.csv')"
      ],
      "metadata": {
        "id": "-Grtmg643NVs",
        "outputId": "23fc7453-636c-434a-d6c1-d2c852782e67",
        "colab": {
          "base_uri": "https://localhost:8080/",
          "height": 17
        }
      },
      "execution_count": 89,
      "outputs": [
        {
          "output_type": "display_data",
          "data": {
            "text/plain": [
              "<IPython.core.display.Javascript object>"
            ],
            "application/javascript": [
              "\n",
              "    async function download(id, filename, size) {\n",
              "      if (!google.colab.kernel.accessAllowed) {\n",
              "        return;\n",
              "      }\n",
              "      const div = document.createElement('div');\n",
              "      const label = document.createElement('label');\n",
              "      label.textContent = `Downloading \"${filename}\": `;\n",
              "      div.appendChild(label);\n",
              "      const progress = document.createElement('progress');\n",
              "      progress.max = size;\n",
              "      div.appendChild(progress);\n",
              "      document.body.appendChild(div);\n",
              "\n",
              "      const buffers = [];\n",
              "      let downloaded = 0;\n",
              "\n",
              "      const channel = await google.colab.kernel.comms.open(id);\n",
              "      // Send a message to notify the kernel that we're ready.\n",
              "      channel.send({})\n",
              "\n",
              "      for await (const message of channel.messages) {\n",
              "        // Send a message to notify the kernel that we're ready.\n",
              "        channel.send({})\n",
              "        if (message.buffers) {\n",
              "          for (const buffer of message.buffers) {\n",
              "            buffers.push(buffer);\n",
              "            downloaded += buffer.byteLength;\n",
              "            progress.value = downloaded;\n",
              "          }\n",
              "        }\n",
              "      }\n",
              "      const blob = new Blob(buffers, {type: 'application/binary'});\n",
              "      const a = document.createElement('a');\n",
              "      a.href = window.URL.createObjectURL(blob);\n",
              "      a.download = filename;\n",
              "      div.appendChild(a);\n",
              "      a.click();\n",
              "      div.remove();\n",
              "    }\n",
              "  "
            ]
          },
          "metadata": {}
        },
        {
          "output_type": "display_data",
          "data": {
            "text/plain": [
              "<IPython.core.display.Javascript object>"
            ],
            "application/javascript": [
              "download(\"download_3916813e-e9f6-4750-8c6b-a9b54ebb187a\", \"handled_data.csv\", 11547)"
            ]
          },
          "metadata": {}
        }
      ]
    }
  ]
}